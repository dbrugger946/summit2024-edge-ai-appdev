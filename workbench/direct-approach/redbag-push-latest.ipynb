{
 "cells": [
  {
   "cell_type": "markdown",
   "id": "a9da8492-e890-4336-9e91-182d9f11cc6a",
   "metadata": {},
   "source": [
    "# Prepare variables and S3 client"
   ]
  },
  {
   "cell_type": "code",
   "execution_count": 41,
   "id": "ade9321b-bae9-4bf1-a55a-c0e7ed830861",
   "metadata": {
    "tags": []
   },
   "outputs": [],
   "source": [
    "import os\n",
    "import boto3\n",
    "from botocore.client import Config\n",
    "\n",
    "# helper variables\n",
    "s3endpoint    = \"http://minio-service:9000\"\n",
    "bucket_models = \"production\"\n",
    "mount_path    = \"./../models\"\n",
    "\n",
    "# Prepare S3 client\n",
    "s3_client = boto3.client('s3',\n",
    "        endpoint_url=s3endpoint,\n",
    "        aws_access_key_id='minio',\n",
    "        aws_secret_access_key='minio123',\n",
    "        config=Config(signature_version='s3v4'),\n",
    "        region_name='us-east-1')"
   ]
  },
  {
   "cell_type": "markdown",
   "id": "87f6f817-55b1-4551-a799-365bfb3837ac",
   "metadata": {},
   "source": [
    "# Get latest version available (locally)"
   ]
  },
  {
   "cell_type": "code",
   "execution_count": 42,
   "id": "d2a8596f-15fe-4d28-a97f-9b2f42730e9c",
   "metadata": {
    "tags": []
   },
   "outputs": [
    {
     "name": "stdout",
     "output_type": "stream",
     "text": [
      "2\n"
     ]
    }
   ],
   "source": [
    "path = mount_path+\"/redbag\"\n",
    "\n",
    "latestversion = 0\n",
    "\n",
    "for subdir, dirs, files in os.walk(path):\n",
    "    dirs.sort()\n",
    "    latestversion = dirs[-1]\n",
    "    break\n",
    "    \n",
    "print(latestversion)"
   ]
  },
  {
   "cell_type": "markdown",
   "id": "0732bbdc-8c65-4ffb-bd46-887f76a16c16",
   "metadata": {},
   "source": [
    "# Calculate version to push in S3 "
   ]
  },
  {
   "cell_type": "code",
   "execution_count": 43,
   "id": "4f39ec50-d689-467f-921a-7be7dff99a19",
   "metadata": {
    "tags": []
   },
   "outputs": [
    {
     "name": "stdout",
     "output_type": "stream",
     "text": [
      "models/redbag/1/fingerprint.pb\n",
      "models/redbag/1/saved_model.pb\n",
      "models/redbag/1/variables/variables.data-00000-of-00001\n",
      "models/redbag/1/variables/variables.index\n"
     ]
    },
    {
     "data": {
      "text/plain": [
       "2"
      ]
     },
     "execution_count": 43,
     "metadata": {},
     "output_type": "execute_result"
    }
   ],
   "source": [
    "objects = s3_client.list_objects_v2(Bucket=bucket_models)\n",
    "\n",
    "version = 0\n",
    "\n",
    "if \"Contents\" in objects:\n",
    "    for obj in objects['Contents']:\n",
    "        print(obj['Key'])\n",
    "        s3version = int(obj['Key'].split('/')[2])\n",
    "        if s3version > version:\n",
    "            version = s3version\n",
    "else:\n",
    "    print(\"there are NO contents\")\n",
    "    \n",
    "version += 1\n",
    "version"
   ]
  },
  {
   "cell_type": "markdown",
   "id": "122465ec-196e-4cc1-bb3d-8d239a3ea45c",
   "metadata": {},
   "source": [
    "# Push latest version to S3"
   ]
  },
  {
   "cell_type": "code",
   "execution_count": 44,
   "id": "318044f0-6b33-4f2e-b839-bff6b8bb54ec",
   "metadata": {
    "tags": []
   },
   "outputs": [
    {
     "name": "stdout",
     "output_type": "stream",
     "text": [
      "models/redbag/2/saved_model.pb\n",
      "models/redbag/2/fingerprint.pb\n",
      "models/redbag/2/variables/variables.index\n",
      "models/redbag/2/variables/variables.data-00000-of-00001\n"
     ]
    }
   ],
   "source": [
    "path = mount_path+\"/redbag/\"+latestversion\n",
    "\n",
    "for subdir, dirs, files in os.walk(path):\n",
    "    for file in files:\n",
    "        full_path = os.path.join(subdir, file)\n",
    "        s3_path = os.path.join(subdir, file)\n",
    "        s3_path = s3_path.replace(\"/\"+str(latestversion)+\"/\",\"/\"+str(version)+\"/\")\n",
    "        print(s3_path)\n",
    "        s3_client.upload_file(full_path, bucket_models, s3_path)\n",
    "        "
   ]
  }
 ],
 "metadata": {
  "kernelspec": {
   "display_name": "Python 3.9",
   "language": "python",
   "name": "python3"
  },
  "language_info": {
   "codemirror_mode": {
    "name": "ipython",
    "version": 3
   },
   "file_extension": ".py",
   "mimetype": "text/x-python",
   "name": "python",
   "nbconvert_exporter": "python",
   "pygments_lexer": "ipython3",
   "version": "3.9.18"
  }
 },
 "nbformat": 4,
 "nbformat_minor": 5
}
